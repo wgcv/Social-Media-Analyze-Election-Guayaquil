{
  "nbformat": 4,
  "nbformat_minor": 0,
  "metadata": {
    "colab": {
      "name": "Analisis_Alcalde_TW_20_03_19",
      "version": "0.3.2",
      "provenance": [],
      "collapsed_sections": []
    },
    "kernelspec": {
      "name": "python3",
      "display_name": "Python 3"
    },
    "accelerator": "GPU"
  },
  "cells": [
    {
      "metadata": {
        "id": "_LGaah-qjwIf",
        "colab_type": "code",
        "colab": {}
      },
      "cell_type": "code",
      "source": [
        "%reload_ext autoreload\n",
        "%autoreload 2\n",
        "%matplotlib inline"
      ],
      "execution_count": 0,
      "outputs": []
    },
    {
      "metadata": {
        "id": "0s_KX5XxjTk8",
        "colab_type": "code",
        "colab": {}
      },
      "cell_type": "code",
      "source": [
        "import pandas as pd\n",
        "import numpy as np\n",
        "import matplotlib.pyplot as plt\n",
        "from fastai.text import *"
      ],
      "execution_count": 0,
      "outputs": []
    },
    {
      "metadata": {
        "id": "AySIHsJakCK1",
        "colab_type": "code",
        "outputId": "86a5726e-f2f1-4eb8-fb66-d236d42426ce",
        "colab": {
          "base_uri": "https://localhost:8080/",
          "height": 122
        }
      },
      "cell_type": "code",
      "source": [
        "from google.colab import drive\n",
        "drive.mount('/content/drive/')\n"
      ],
      "execution_count": 0,
      "outputs": [
        {
          "output_type": "stream",
          "text": [
            "Go to this URL in a browser: https://accounts.google.com/o/oauth2/auth?client_id=947318989803-6bn6qk8qdgf4n4g3pfee6491hc0brc4i.apps.googleusercontent.com&redirect_uri=urn%3Aietf%3Awg%3Aoauth%3A2.0%3Aoob&scope=email%20https%3A%2F%2Fwww.googleapis.com%2Fauth%2Fdocs.test%20https%3A%2F%2Fwww.googleapis.com%2Fauth%2Fdrive%20https%3A%2F%2Fwww.googleapis.com%2Fauth%2Fdrive.photos.readonly%20https%3A%2F%2Fwww.googleapis.com%2Fauth%2Fpeopleapi.readonly&response_type=code\n",
            "\n",
            "Enter your authorization code:\n",
            "··········\n",
            "Mounted at /content/drive/\n"
          ],
          "name": "stdout"
        }
      ]
    },
    {
      "metadata": {
        "id": "aWjIuHhKkaVq",
        "colab_type": "code",
        "colab": {}
      },
      "cell_type": "code",
      "source": [
        "path = '/content/drive/My Drive/analisis_alcalde_2019/'"
      ],
      "execution_count": 0,
      "outputs": []
    },
    {
      "metadata": {
        "id": "43syrNwnlAc5",
        "colab_type": "code",
        "outputId": "07297002-6c09-45dd-e815-91fca136044d",
        "colab": {
          "base_uri": "https://localhost:8080/",
          "height": 423
        }
      },
      "cell_type": "code",
      "source": [
        "df = pd.read_csv(path+\"tweets 21.csv\")\n",
        "df.head()"
      ],
      "execution_count": 0,
      "outputs": [
        {
          "output_type": "execute_result",
          "data": {
            "text/html": [
              "<div>\n",
              "<style scoped>\n",
              "    .dataframe tbody tr th:only-of-type {\n",
              "        vertical-align: middle;\n",
              "    }\n",
              "\n",
              "    .dataframe tbody tr th {\n",
              "        vertical-align: top;\n",
              "    }\n",
              "\n",
              "    .dataframe thead th {\n",
              "        text-align: right;\n",
              "    }\n",
              "</style>\n",
              "<table border=\"1\" class=\"dataframe\">\n",
              "  <thead>\n",
              "    <tr style=\"text-align: right;\">\n",
              "      <th></th>\n",
              "      <th>ID</th>\n",
              "      <th>creado_en</th>\n",
              "      <th>nombreusuario</th>\n",
              "      <th>nombre</th>\n",
              "      <th>creacion_usuario</th>\n",
              "      <th>seguidores</th>\n",
              "      <th>siguiendo</th>\n",
              "      <th>numero_tweets</th>\n",
              "      <th>geolocalziacion_habilitada</th>\n",
              "      <th>idioma</th>\n",
              "      <th>...</th>\n",
              "      <th>BermudezBronson</th>\n",
              "      <th>balerioestacio</th>\n",
              "      <th>inca_jose</th>\n",
              "      <th>EduardoArgudoG</th>\n",
              "      <th>fcojimenez21</th>\n",
              "      <th>patobuendia23</th>\n",
              "      <th>jaimelomas74</th>\n",
              "      <th>Simon_BolivarEC</th>\n",
              "      <th>edgarsalazar_51</th>\n",
              "      <th>jaimenebotsaadi</th>\n",
              "    </tr>\n",
              "  </thead>\n",
              "  <tbody>\n",
              "    <tr>\n",
              "      <th>0</th>\n",
              "      <td>1105923462068088832</td>\n",
              "      <td>Wed Mar 13 20:07:55 +0000 2019</td>\n",
              "      <td>Christianoleas2</td>\n",
              "      <td>Christianoleas</td>\n",
              "      <td>Sat Dec 15 04:46:05 +0000 2018</td>\n",
              "      <td>0</td>\n",
              "      <td>74</td>\n",
              "      <td>122</td>\n",
              "      <td>False</td>\n",
              "      <td>es</td>\n",
              "      <td>...</td>\n",
              "      <td>False</td>\n",
              "      <td>False</td>\n",
              "      <td>False</td>\n",
              "      <td>False</td>\n",
              "      <td>False</td>\n",
              "      <td>False</td>\n",
              "      <td>False</td>\n",
              "      <td>False</td>\n",
              "      <td>False</td>\n",
              "      <td>True</td>\n",
              "    </tr>\n",
              "    <tr>\n",
              "      <th>1</th>\n",
              "      <td>1105923594482319363</td>\n",
              "      <td>Wed Mar 13 20:08:26 +0000 2019</td>\n",
              "      <td>miguel3vargas</td>\n",
              "      <td>miguel vargas cornej</td>\n",
              "      <td>Sun Nov 13 21:03:03 +0000 2016</td>\n",
              "      <td>0</td>\n",
              "      <td>58</td>\n",
              "      <td>333</td>\n",
              "      <td>False</td>\n",
              "      <td>es</td>\n",
              "      <td>...</td>\n",
              "      <td>False</td>\n",
              "      <td>False</td>\n",
              "      <td>False</td>\n",
              "      <td>False</td>\n",
              "      <td>False</td>\n",
              "      <td>False</td>\n",
              "      <td>False</td>\n",
              "      <td>False</td>\n",
              "      <td>False</td>\n",
              "      <td>True</td>\n",
              "    </tr>\n",
              "    <tr>\n",
              "      <th>2</th>\n",
              "      <td>1105924416641396739</td>\n",
              "      <td>Wed Mar 13 20:11:42 +0000 2019</td>\n",
              "      <td>ofelitavera</td>\n",
              "      <td>Ab. Ofelia Vera</td>\n",
              "      <td>Tue Apr 17 14:56:08 +0000 2012</td>\n",
              "      <td>441</td>\n",
              "      <td>358</td>\n",
              "      <td>9072</td>\n",
              "      <td>False</td>\n",
              "      <td>es</td>\n",
              "      <td>...</td>\n",
              "      <td>False</td>\n",
              "      <td>False</td>\n",
              "      <td>False</td>\n",
              "      <td>False</td>\n",
              "      <td>False</td>\n",
              "      <td>False</td>\n",
              "      <td>False</td>\n",
              "      <td>False</td>\n",
              "      <td>False</td>\n",
              "      <td>False</td>\n",
              "    </tr>\n",
              "    <tr>\n",
              "      <th>3</th>\n",
              "      <td>1105924428838387712</td>\n",
              "      <td>Wed Mar 13 20:11:45 +0000 2019</td>\n",
              "      <td>GORRASGYE</td>\n",
              "      <td>JOSHUA F</td>\n",
              "      <td>Sat Jan 26 20:04:59 +0000 2013</td>\n",
              "      <td>4092</td>\n",
              "      <td>4373</td>\n",
              "      <td>22586</td>\n",
              "      <td>True</td>\n",
              "      <td>es</td>\n",
              "      <td>...</td>\n",
              "      <td>False</td>\n",
              "      <td>False</td>\n",
              "      <td>False</td>\n",
              "      <td>False</td>\n",
              "      <td>False</td>\n",
              "      <td>False</td>\n",
              "      <td>False</td>\n",
              "      <td>False</td>\n",
              "      <td>False</td>\n",
              "      <td>False</td>\n",
              "    </tr>\n",
              "    <tr>\n",
              "      <th>4</th>\n",
              "      <td>1105924978741071872</td>\n",
              "      <td>Wed Mar 13 20:13:56 +0000 2019</td>\n",
              "      <td>PatricioPlazaD9</td>\n",
              "      <td>Patricio Plaza Daza</td>\n",
              "      <td>Tue Dec 05 02:05:23 +0000 2017</td>\n",
              "      <td>45</td>\n",
              "      <td>395</td>\n",
              "      <td>1869</td>\n",
              "      <td>False</td>\n",
              "      <td>es</td>\n",
              "      <td>...</td>\n",
              "      <td>False</td>\n",
              "      <td>False</td>\n",
              "      <td>False</td>\n",
              "      <td>False</td>\n",
              "      <td>False</td>\n",
              "      <td>False</td>\n",
              "      <td>False</td>\n",
              "      <td>False</td>\n",
              "      <td>False</td>\n",
              "      <td>False</td>\n",
              "    </tr>\n",
              "  </tbody>\n",
              "</table>\n",
              "<p>5 rows × 30 columns</p>\n",
              "</div>"
            ],
            "text/plain": [
              "                    ID                       creado_en    nombreusuario  \\\n",
              "0  1105923462068088832  Wed Mar 13 20:07:55 +0000 2019  Christianoleas2   \n",
              "1  1105923594482319363  Wed Mar 13 20:08:26 +0000 2019    miguel3vargas   \n",
              "2  1105924416641396739  Wed Mar 13 20:11:42 +0000 2019      ofelitavera   \n",
              "3  1105924428838387712  Wed Mar 13 20:11:45 +0000 2019        GORRASGYE   \n",
              "4  1105924978741071872  Wed Mar 13 20:13:56 +0000 2019  PatricioPlazaD9   \n",
              "\n",
              "                 nombre                creacion_usuario  seguidores  \\\n",
              "0        Christianoleas  Sat Dec 15 04:46:05 +0000 2018           0   \n",
              "1  miguel vargas cornej  Sun Nov 13 21:03:03 +0000 2016           0   \n",
              "2       Ab. Ofelia Vera  Tue Apr 17 14:56:08 +0000 2012         441   \n",
              "3              JOSHUA F  Sat Jan 26 20:04:59 +0000 2013        4092   \n",
              "4   Patricio Plaza Daza  Tue Dec 05 02:05:23 +0000 2017          45   \n",
              "\n",
              "   siguiendo  numero_tweets  geolocalziacion_habilitada idioma  \\\n",
              "0         74            122                       False     es   \n",
              "1         58            333                       False     es   \n",
              "2        358           9072                       False     es   \n",
              "3       4373          22586                        True     es   \n",
              "4        395           1869                       False     es   \n",
              "\n",
              "        ...        BermudezBronson balerioestacio inca_jose EduardoArgudoG  \\\n",
              "0       ...                  False          False     False          False   \n",
              "1       ...                  False          False     False          False   \n",
              "2       ...                  False          False     False          False   \n",
              "3       ...                  False          False     False          False   \n",
              "4       ...                  False          False     False          False   \n",
              "\n",
              "   fcojimenez21  patobuendia23  jaimelomas74  Simon_BolivarEC  \\\n",
              "0         False          False         False            False   \n",
              "1         False          False         False            False   \n",
              "2         False          False         False            False   \n",
              "3         False          False         False            False   \n",
              "4         False          False         False            False   \n",
              "\n",
              "   edgarsalazar_51  jaimenebotsaadi  \n",
              "0            False             True  \n",
              "1            False             True  \n",
              "2            False            False  \n",
              "3            False            False  \n",
              "4            False            False  \n",
              "\n",
              "[5 rows x 30 columns]"
            ]
          },
          "metadata": {
            "tags": []
          },
          "execution_count": 5
        }
      ]
    },
    {
      "metadata": {
        "id": "rCzOYs-4m490",
        "colab_type": "code",
        "outputId": "6a003d22-76a8-4921-e25f-ea0977ec9037",
        "colab": {
          "base_uri": "https://localhost:8080/",
          "height": 204
        }
      },
      "cell_type": "code",
      "source": [
        "print(df.columns)\n",
        "print(df.shape)\n",
        "print(df.ID.count())"
      ],
      "execution_count": 0,
      "outputs": [
        {
          "output_type": "stream",
          "text": [
            "Index(['ID', 'creado_en', 'nombreusuario', 'nombre', 'creacion_usuario',\n",
            "       'seguidores', 'siguiendo', 'numero_tweets',\n",
            "       'geolocalziacion_habilitada', 'idioma', 'origen', 'idioma_del_tweet',\n",
            "       'tweet', 'hashtags', 'es_respuesta', 'jimmyjairala', 'cedeno_marth',\n",
            "       'jorgevillacrese', 'CynthiaViteri6', 'GinoCornejoM', 'BermudezBronson',\n",
            "       'balerioestacio', 'inca_jose', 'EduardoArgudoG', 'fcojimenez21',\n",
            "       'patobuendia23', 'jaimelomas74', 'Simon_BolivarEC', 'edgarsalazar_51',\n",
            "       'jaimenebotsaadi'],\n",
            "      dtype='object')\n",
            "(11230, 30)\n",
            "11230\n"
          ],
          "name": "stdout"
        }
      ]
    },
    {
      "metadata": {
        "id": "jEn3YOICnCl9",
        "colab_type": "code",
        "outputId": "4f5db2e2-3377-4ef6-ad36-96a5ef78fa93",
        "colab": {
          "base_uri": "https://localhost:8080/",
          "height": 263
        }
      },
      "cell_type": "code",
      "source": [
        "tweets_vs_retweet = [int(df[~df['tweet'].astype(str).str.startswith('RT')].ID.count()), int(df.ID.count())]\n",
        "plt.pie(tweets_vs_retweet, labels=(\"Tweets \" + str(int(tweets_vs_retweet[0]/(tweets_vs_retweet[0]+tweets_vs_retweet[1])*100)) +\"%\" ,\"Retweets \"+ str(int(tweets_vs_retweet[1]/(tweets_vs_retweet[0]+tweets_vs_retweet[1])*100)) +\"%\"))\n",
        "plt.title('Tweet vs Retweet')\n",
        "plt.show()"
      ],
      "execution_count": 0,
      "outputs": [
        {
          "output_type": "display_data",
          "data": {
            "image/png": "[encoded data removed]",
            "text/plain": [
              "<Figure size 432x288 with 1 Axes>"
            ]
          },
          "metadata": {
            "tags": []
          }
        }
      ]
    },
    {
      "metadata": {
        "id": "wCzp3nUR2kh8",
        "colab_type": "code",
        "outputId": "b9f14e78-9310-4396-c235-3ef6027e9e27",
        "colab": {
          "base_uri": "https://localhost:8080/",
          "height": 566
        }
      },
      "cell_type": "code",
      "source": [
        "number_of_followers = [sum(df[\"seguidores\"].groupby(df[\"nombreusuario\"]).max()==0),\n",
        "                      sum((df[\"seguidores\"].groupby(df[\"nombreusuario\"]).max()<11) & (df[\"seguidores\"].groupby(df[\"nombreusuario\"]).max()>0)),\n",
        "                      sum((df[\"seguidores\"].groupby(df[\"nombreusuario\"]).max()<51) & (df[\"seguidores\"].groupby(df[\"nombreusuario\"]).max()>10)),\n",
        "                      sum((df[\"seguidores\"].groupby(df[\"nombreusuario\"]).max()<101) & (df[\"seguidores\"].groupby(df[\"nombreusuario\"]).max()>50)),\n",
        "                      sum((df[\"seguidores\"].groupby(df[\"nombreusuario\"]).max()<151) & (df[\"seguidores\"].groupby(df[\"nombreusuario\"]).max()>100)),\n",
        "                      sum((df[\"seguidores\"].groupby(df[\"nombreusuario\"]).max()<251) & (df[\"seguidores\"].groupby(df[\"nombreusuario\"]).max()>150)),\n",
        "                      sum((df[\"seguidores\"].groupby(df[\"nombreusuario\"]).max()<501) & (df[\"seguidores\"].groupby(df[\"nombreusuario\"]).max()>250)),\n",
        "                      sum((df[\"seguidores\"].groupby(df[\"nombreusuario\"]).max()>500))]\n",
        "plt.figure(figsize=(15, 8), dpi= 80, facecolor='w', edgecolor='k')\n",
        "number = [\"0\",\"10\",\"50\",\"100\",\"150\",\"250\",\"500\",\">500\"]\n",
        "plt.ylabel(\"Cantidad de usuarios\")\n",
        "plt.xlabel(\"Número de seguidores\")\n",
        "plt.bar(number, height=number_of_followers)\n",
        "plt.title('Número de seguidores por usuario')\n",
        "plt.show()"
      ],
      "execution_count": 0,
      "outputs": [
        {
          "output_type": "display_data",
          "data": {
            "image/png": "[encoded data removed]",
            "text/plain": [
              "<Figure size 1200x640 with 1 Axes>"
            ]
          },
          "metadata": {
            "tags": []
          }
        }
      ]
    },
    {
      "metadata": {
        "id": "FwMsuRY3p0fY",
        "colab_type": "code",
        "outputId": "2f5e5ee2-8fc8-4194-d52e-e2ef62034fe5",
        "colab": {
          "base_uri": "https://localhost:8080/",
          "height": 368
        }
      },
      "cell_type": "code",
      "source": [
        "number_of_followers = [sum(df[\"seguidores\"].groupby(df[\"nombreusuario\"]).max()==0),\n",
        "                      sum((df[\"seguidores\"].groupby(df[\"nombreusuario\"]).max()<11) & (df[\"seguidores\"].groupby(df[\"nombreusuario\"]).max()>0)),\n",
        "                      sum((df[\"seguidores\"].groupby(df[\"nombreusuario\"]).max()<51) & (df[\"seguidores\"].groupby(df[\"nombreusuario\"]).max()>10)),\n",
        "                      sum((df[\"seguidores\"].groupby(df[\"nombreusuario\"]).max()<101) & (df[\"seguidores\"].groupby(df[\"nombreusuario\"]).max()>50)),\n",
        "                      sum((df[\"seguidores\"].groupby(df[\"nombreusuario\"]).max()<151) & (df[\"seguidores\"].groupby(df[\"nombreusuario\"]).max()>100)),\n",
        "                      sum((df[\"seguidores\"].groupby(df[\"nombreusuario\"]).max()<251) & (df[\"seguidores\"].groupby(df[\"nombreusuario\"]).max()>150)),\n",
        "                      sum((df[\"seguidores\"].groupby(df[\"nombreusuario\"]).max()<501) & (df[\"seguidores\"].groupby(df[\"nombreusuario\"]).max()>250)),\n",
        "                      sum((df[\"seguidores\"].groupby(df[\"nombreusuario\"]).max()>500))]\n",
        "plt.figure(figsize=(10, 5), dpi= 80, facecolor='w', edgecolor='k')\n",
        "number = [\"0\",\"10\",\"50\",\"100\",\"150\",\"250\",\"500\",\">500\"]\n",
        "plt.bar(number, height=number_of_followers)\n",
        "plt.title('Númeero de seguidores por usuario')\n",
        "plt.show()"
      ],
      "execution_count": 0,
      "outputs": [
        {
          "output_type": "display_data",
          "data": {
            "image/png": "[encoded data removed]",
            "text/plain": [
              "<Figure size 800x400 with 1 Axes>"
            ]
          },
          "metadata": {
            "tags": []
          }
        }
      ]
    },
    {
      "metadata": {
        "id": "P7zKRg3W3-9H",
        "colab_type": "code",
        "outputId": "66086ba6-3d81-4fd7-b44f-6f15d0784c5e",
        "colab": {
          "base_uri": "https://localhost:8080/",
          "height": 368
        }
      },
      "cell_type": "code",
      "source": [
        "df_ns = df.loc[df['jaimenebotsaadi'] == True]\n",
        "number_of_followers = [sum(df_ns[\"seguidores\"].groupby(df_ns[\"nombreusuario\"]).max()==0),\n",
        "                      sum((df_ns[\"seguidores\"].groupby(df_ns[\"nombreusuario\"]).max()<11) & (df_ns[\"seguidores\"].groupby(df_ns[\"nombreusuario\"]).max()>0)),\n",
        "                      sum((df_ns[\"seguidores\"].groupby(df_ns[\"nombreusuario\"]).max()<51) & (df_ns[\"seguidores\"].groupby(df_ns[\"nombreusuario\"]).max()>10)),\n",
        "                      sum((df_ns[\"seguidores\"].groupby(df_ns[\"nombreusuario\"]).max()<101) & (df_ns[\"seguidores\"].groupby(df_ns[\"nombreusuario\"]).max()>50)),\n",
        "                      sum((df_ns[\"seguidores\"].groupby(df_ns[\"nombreusuario\"]).max()<151) & (df_ns[\"seguidores\"].groupby(df_ns[\"nombreusuario\"]).max()>100)),\n",
        "                      sum((df_ns[\"seguidores\"].groupby(df_ns[\"nombreusuario\"]).max()<251) & (df_ns[\"seguidores\"].groupby(df_ns[\"nombreusuario\"]).max()>150)),\n",
        "                      sum((df_ns[\"seguidores\"].groupby(df_ns[\"nombreusuario\"]).max()<501) & (df_ns[\"seguidores\"].groupby(df_ns[\"nombreusuario\"]).max()>250)),\n",
        "                      sum((df_ns[\"seguidores\"].groupby(df_ns[\"nombreusuario\"]).max()>500))]\n",
        "plt.figure(figsize=(10, 5), dpi= 80, facecolor='w', edgecolor='k')\n",
        "number = [\"0\",\"10\",\"50\",\"100\",\"150\",\"250\",\"500\",\">500\"]\n",
        "plt.bar(number, height=number_of_followers)\n",
        "plt.title('Número de seguidores por usuario que mencionan a @jaimenebotsaadi')\n",
        "plt.show()"
      ],
      "execution_count": 0,
      "outputs": [
        {
          "output_type": "display_data",
          "data": {
            "image/png": "[encoded data removed]",
            "text/plain": [
              "<Figure size 800x400 with 1 Axes>"
            ]
          },
          "metadata": {
            "tags": []
          }
        }
      ]
    },
    {
      "metadata": {
        "id": "OTrbL7_W2t8u",
        "colab_type": "code",
        "outputId": "5b3303e1-063d-4795-b549-ef644558ed46",
        "colab": {
          "base_uri": "https://localhost:8080/",
          "height": 368
        }
      },
      "cell_type": "code",
      "source": [
        "df_ns = df.loc[df['jimmyjairala'] == True]\n",
        "number_of_followers = [sum(df_ns[\"seguidores\"].groupby(df_ns[\"nombreusuario\"]).max()==0),\n",
        "                      sum((df_ns[\"seguidores\"].groupby(df_ns[\"nombreusuario\"]).max()<11) & (df_ns[\"seguidores\"].groupby(df_ns[\"nombreusuario\"]).max()>0)),\n",
        "                      sum((df_ns[\"seguidores\"].groupby(df_ns[\"nombreusuario\"]).max()<51) & (df_ns[\"seguidores\"].groupby(df_ns[\"nombreusuario\"]).max()>10)),\n",
        "                      sum((df_ns[\"seguidores\"].groupby(df_ns[\"nombreusuario\"]).max()<101) & (df_ns[\"seguidores\"].groupby(df_ns[\"nombreusuario\"]).max()>50)),\n",
        "                      sum((df_ns[\"seguidores\"].groupby(df_ns[\"nombreusuario\"]).max()<151) & (df_ns[\"seguidores\"].groupby(df_ns[\"nombreusuario\"]).max()>100)),\n",
        "                      sum((df_ns[\"seguidores\"].groupby(df_ns[\"nombreusuario\"]).max()<251) & (df_ns[\"seguidores\"].groupby(df_ns[\"nombreusuario\"]).max()>150)),\n",
        "                      sum((df_ns[\"seguidores\"].groupby(df_ns[\"nombreusuario\"]).max()<501) & (df_ns[\"seguidores\"].groupby(df_ns[\"nombreusuario\"]).max()>250)),\n",
        "                      sum((df_ns[\"seguidores\"].groupby(df_ns[\"nombreusuario\"]).max()>500))]\n",
        "plt.figure(figsize=(10, 5), dpi= 80, facecolor='w', edgecolor='k')\n",
        "number = [\"0\",\"10\",\"50\",\"100\",\"150\",\"250\",\"500\",\">500\"]\n",
        "plt.bar(number, height=number_of_followers)\n",
        "plt.title('Número de seguidores por usuario que mencionan a @jimmyjairala')\n",
        "plt.show()"
      ],
      "execution_count": 0,
      "outputs": [
        {
          "output_type": "display_data",
          "data": {
            "image/png": "[encoded data removed]",
            "text/plain": [
              "<Figure size 800x400 with 1 Axes>"
            ]
          },
          "metadata": {
            "tags": []
          }
        }
      ]
    },
    {
      "metadata": {
        "id": "FoxCHz6-32P4",
        "colab_type": "code",
        "outputId": "dc91c514-53bc-417a-cf8f-010d5d2c78c0",
        "colab": {
          "base_uri": "https://localhost:8080/",
          "height": 368
        }
      },
      "cell_type": "code",
      "source": [
        "df_ns = df.loc[df['CynthiaViteri6'] == True]\n",
        "number_of_followers = [sum(df_ns[\"seguidores\"].groupby(df_ns[\"nombreusuario\"]).max()==0),\n",
        "                      sum((df_ns[\"seguidores\"].groupby(df_ns[\"nombreusuario\"]).max()<11) & (df_ns[\"seguidores\"].groupby(df_ns[\"nombreusuario\"]).max()>0)),\n",
        "                      sum((df_ns[\"seguidores\"].groupby(df_ns[\"nombreusuario\"]).max()<51) & (df_ns[\"seguidores\"].groupby(df_ns[\"nombreusuario\"]).max()>10)),\n",
        "                      sum((df_ns[\"seguidores\"].groupby(df_ns[\"nombreusuario\"]).max()<101) & (df_ns[\"seguidores\"].groupby(df_ns[\"nombreusuario\"]).max()>50)),\n",
        "                      sum((df_ns[\"seguidores\"].groupby(df_ns[\"nombreusuario\"]).max()<151) & (df_ns[\"seguidores\"].groupby(df_ns[\"nombreusuario\"]).max()>100)),\n",
        "                      sum((df_ns[\"seguidores\"].groupby(df_ns[\"nombreusuario\"]).max()<251) & (df_ns[\"seguidores\"].groupby(df_ns[\"nombreusuario\"]).max()>150)),\n",
        "                      sum((df_ns[\"seguidores\"].groupby(df_ns[\"nombreusuario\"]).max()<501) & (df_ns[\"seguidores\"].groupby(df_ns[\"nombreusuario\"]).max()>250)),\n",
        "                      sum((df_ns[\"seguidores\"].groupby(df_ns[\"nombreusuario\"]).max()>500))]\n",
        "plt.figure(figsize=(10, 5), dpi= 80, facecolor='w', edgecolor='k')\n",
        "number = [\"0\",\"10\",\"50\",\"100\",\"150\",\"250\",\"500\",\">500\"]\n",
        "plt.bar(number, height=number_of_followers)\n",
        "plt.title('Número de seguidores por usuario que mencionan a @CynthiaViteri6')\n",
        "plt.show()"
      ],
      "execution_count": 0,
      "outputs": [
        {
          "output_type": "display_data",
          "data": {
            "image/png": "[encoded data removed]",
            "text/plain": [
              "<Figure size 800x400 with 1 Axes>"
            ]
          },
          "metadata": {
            "tags": []
          }
        }
      ]
    },
    {
      "metadata": {
        "id": "ieEOBIgP44mf",
        "colab_type": "code",
        "outputId": "f98c6450-7d03-42ae-bd6d-4bf7875ebbc5",
        "colab": {
          "base_uri": "https://localhost:8080/",
          "height": 368
        }
      },
      "cell_type": "code",
      "source": [
        "df_ns = df.loc[df['fcojimenez21'] == True]\n",
        "number_of_followers = [sum(df_ns[\"seguidores\"].groupby(df_ns[\"nombreusuario\"]).max()==0),\n",
        "                      sum((df_ns[\"seguidores\"].groupby(df_ns[\"nombreusuario\"]).max()<11) & (df_ns[\"seguidores\"].groupby(df_ns[\"nombreusuario\"]).max()>0)),\n",
        "                      sum((df_ns[\"seguidores\"].groupby(df_ns[\"nombreusuario\"]).max()<51) & (df_ns[\"seguidores\"].groupby(df_ns[\"nombreusuario\"]).max()>10)),\n",
        "                      sum((df_ns[\"seguidores\"].groupby(df_ns[\"nombreusuario\"]).max()<101) & (df_ns[\"seguidores\"].groupby(df_ns[\"nombreusuario\"]).max()>50)),\n",
        "                      sum((df_ns[\"seguidores\"].groupby(df_ns[\"nombreusuario\"]).max()<151) & (df_ns[\"seguidores\"].groupby(df_ns[\"nombreusuario\"]).max()>100)),\n",
        "                      sum((df_ns[\"seguidores\"].groupby(df_ns[\"nombreusuario\"]).max()<251) & (df_ns[\"seguidores\"].groupby(df_ns[\"nombreusuario\"]).max()>150)),\n",
        "                      sum((df_ns[\"seguidores\"].groupby(df_ns[\"nombreusuario\"]).max()<501) & (df_ns[\"seguidores\"].groupby(df_ns[\"nombreusuario\"]).max()>250)),\n",
        "                      sum((df_ns[\"seguidores\"].groupby(df_ns[\"nombreusuario\"]).max()>500))]\n",
        "plt.figure(figsize=(10, 5), dpi= 80, facecolor='w', edgecolor='k')\n",
        "number = [\"0\",\"10\",\"50\",\"100\",\"150\",\"250\",\"500\",\">500\"]\n",
        "plt.bar(number, height=number_of_followers)\n",
        "plt.title('Número de seguidores por usuario que mencionan a @fcojimenez21')\n",
        "plt.show()"
      ],
      "execution_count": 0,
      "outputs": [
        {
          "output_type": "display_data",
          "data": {
            "image/png": "[encoded data removed]",
            "text/plain": [
              "<Figure size 800x400 with 1 Axes>"
            ]
          },
          "metadata": {
            "tags": []
          }
        }
      ]
    },
    {
      "metadata": {
        "id": "ZNsadDu-rbnE",
        "colab_type": "code",
        "colab": {}
      },
      "cell_type": "code",
      "source": [
        "# Only tweets no retweets\n",
        "df = df[~df['tweet'].astype(str).str.startswith('RT')]"
      ],
      "execution_count": 0,
      "outputs": []
    },
    {
      "metadata": {
        "id": "aBsNuJiyc3w5",
        "colab_type": "code",
        "colab": {}
      },
      "cell_type": "code",
      "source": [
        "# tweet with only one mention \n",
        "df[df[['jimmyjairala', 'cedeno_marth',\n",
        "       'jorgevillacrese', 'CynthiaViteri6', 'GinoCornejoM', 'BermudezBronson',\n",
        "       'balerioestacio', 'inca_jose', 'EduardoArgudoG', 'fcojimenez21',\n",
        "       'patobuendia23', 'jaimelomas74', 'Simon_BolivarEC', 'edgarsalazar_51',\n",
        "       'jaimenebotsaadi']].sum(axis=1)==1].to_csv(path+\"noRTOneMetion.csv\", encoding='utf-8')\n"
      ],
      "execution_count": 0,
      "outputs": []
    },
    {
      "metadata": {
        "id": "4vPiIGT8u7V7",
        "colab_type": "code",
        "outputId": "ad287c0f-4557-446f-99e1-77aac2043df0",
        "colab": {
          "base_uri": "https://localhost:8080/",
          "height": 549
        }
      },
      "cell_type": "code",
      "source": [
        "plt.figure(figsize=(15, 8), dpi= 80, facecolor='w', edgecolor='k')\n",
        "n_mention = [df.jimmyjairala.sum(), df.cedeno_marth.sum(), df.jorgevillacrese.sum(),\n",
        "             df.CynthiaViteri6.sum(), df.GinoCornejoM.sum(), df.BermudezBronson.sum(),\n",
        "             df.balerioestacio.sum(), df.inca_jose.sum(), df.EduardoArgudoG.sum(),\n",
        "             df.fcojimenez21.sum(), df.patobuendia23.sum(), df.jaimelomas74.sum(),\n",
        "             df.Simon_BolivarEC.sum(), df.edgarsalazar_51.sum(), df.jaimenebotsaadi.sum()]\n",
        "username  = ('jimmyjairala', 'cedeno_marth',\n",
        "       'jorgevillacrese', 'CynthiaViteri6', 'GinoCornejoM', 'BermudezBronson',\n",
        "       'balerioestacio', 'inca_jose', 'EduardoArgudoG', 'fcojimenez21',\n",
        "       'patobuendia23', 'jaimelomas74', 'Simon_BolivarEC', 'edgarsalazar_51',\n",
        "        'jaimenebotsaadi')\n",
        "plt.barh(username, width=n_mention, left=0)\n",
        "plt.title('Número de menciones')\n",
        "plt.show()"
      ],
      "execution_count": 0,
      "outputs": [
        {
          "output_type": "display_data",
          "data": {
            "image/png": "[encoded data removed]",
            "text/plain": [
              "<Figure size 1200x640 with 1 Axes>"
            ]
          },
          "metadata": {
            "tags": []
          }
        }
      ]
    },
    {
      "metadata": {
        "id": "AvfRpaTj-T_O",
        "colab_type": "code",
        "outputId": "3e45efdf-d4f3-4f0a-8a3e-209df9973334",
        "colab": {
          "base_uri": "https://localhost:8080/",
          "height": 549
        }
      },
      "cell_type": "code",
      "source": [
        "plt.figure(figsize=(15, 8), dpi= 80, facecolor='w', edgecolor='k')\n",
        "time = [\"0h00\",\"1h00\",\"2h00\",\"3h00\",\"4h00\",\"05h00\",\"6h00\",\"7h00\",\"8h00\",\n",
        "       \"9h00\",\"10h00\",\"11h00\",\"12h00\",\"13h00\",\"14h00\",\"15h00\",\"16h00\",\n",
        "       \"17h00\",\"18h00\",\"19h00\",\"20h00\",\"21h00\",\"22h00\",\"23h00\"]\n",
        "plt.bar(time, height=df.groupby([pd.to_datetime(df.creado_en).dt.hour]).size())\n",
        "plt.title('Tweets/Hora')\n",
        "plt.show()"
      ],
      "execution_count": 0,
      "outputs": [
        {
          "output_type": "display_data",
          "data": {
            "image/png": "[encoded data removed]",
            "text/plain": [
              "<Figure size 1200x640 with 1 Axes>"
            ]
          },
          "metadata": {
            "tags": []
          }
        }
      ]
    },
    {
      "metadata": {
        "id": "mbnKZGrenT7Q",
        "colab_type": "code",
        "outputId": "83daa9aa-1f62-4287-bc93-96d0475bc773",
        "colab": {
          "base_uri": "https://localhost:8080/",
          "height": 549
        }
      },
      "cell_type": "code",
      "source": [
        "plt.figure(figsize=(15, 8), dpi= 80, facecolor='w', edgecolor='k')\n",
        "time = [\"0h00\",\"1h00\",\"2h00\",\"3h00\",\"4h00\",\"05h00\",\"6h00\",\"7h00\",\"8h00\",\n",
        "       \"9h00\",\"10h00\",\"11h00\",\"12h00\",\"13h00\",\"14h00\",\"15h00\",\"16h00\",\n",
        "       \"17h00\",\"18h00\",\"19h00\",\"20h00\",\"21h00\",\"22h00\",\"23h00\"]\n",
        "plt.bar(time, height=df.groupby([pd.to_datetime(df.loc[df['jaimenebotsaadi'] == True].creado_en).dt.hour]).size())\n",
        "plt.title('@jaimenebotsaadi/Hora')\n",
        "plt.show()\n"
      ],
      "execution_count": 0,
      "outputs": [
        {
          "output_type": "display_data",
          "data": {
            "image/png": "[encoded data removed]",
            "text/plain": [
              "<Figure size 1200x640 with 1 Axes>"
            ]
          },
          "metadata": {
            "tags": []
          }
        }
      ]
    },
    {
      "metadata": {
        "id": "GYQmbtGW6AyU",
        "colab_type": "code",
        "outputId": "a436ed7b-65fd-4c54-f545-7f4604c013ce",
        "colab": {
          "base_uri": "https://localhost:8080/",
          "height": 549
        }
      },
      "cell_type": "code",
      "source": [
        "plt.figure(figsize=(15, 8), dpi= 80, facecolor='w', edgecolor='k')\n",
        "time = [\"0h00\",\"1h00\",\"2h00\",\"3h00\",\"4h00\",\"05h00\",\"6h00\",\"7h00\",\"8h00\",\n",
        "       \"9h00\",\"10h00\",\"11h00\",\"12h00\",\"13h00\",\"14h00\",\"15h00\",\"16h00\",\n",
        "       \"17h00\",\"18h00\",\"19h00\",\"20h00\",\"21h00\",\"22h00\",\"23h00\"]\n",
        "plt.bar(time, height=df.groupby([pd.to_datetime(df.loc[df['jimmyjairala'] == True].creado_en).dt.hour]).size())\n",
        "plt.title('@jimmyjairala/Hora')\n",
        "plt.show()\n"
      ],
      "execution_count": 0,
      "outputs": [
        {
          "output_type": "display_data",
          "data": {
            "image/png": "[encoded data removed]",
            "text/plain": [
              "<Figure size 1200x640 with 1 Axes>"
            ]
          },
          "metadata": {
            "tags": []
          }
        }
      ]
    },
    {
      "metadata": {
        "id": "yAZZuhM5lnyk",
        "colab_type": "code",
        "outputId": "27ce8042-cbd5-4bc6-f57d-ade4b3204ecf",
        "colab": {
          "base_uri": "https://localhost:8080/",
          "height": 549
        }
      },
      "cell_type": "code",
      "source": [
        "plt.figure(figsize=(15, 8), dpi= 80, facecolor='w', edgecolor='k')\n",
        "time = [\"0h00\",\"1h00\",\"2h00\",\"3h00\",\"4h00\",\"05h00\",\"6h00\",\"7h00\",\"8h00\",\n",
        "       \"9h00\",\"10h00\",\"11h00\",\"12h00\",\"13h00\",\"14h00\",\"15h00\",\"16h00\",\n",
        "       \"17h00\",\"18h00\",\"19h00\",\"20h00\",\"21h00\",\"22h00\",\"23h00\"]\n",
        "plt.bar(time, height=df.groupby([pd.to_datetime(df.loc[df['CynthiaViteri6'] == True].creado_en).dt.hour]).size())\n",
        "plt.title('@CynthiaViteri6/Hora')\n",
        "plt.show()\n"
      ],
      "execution_count": 0,
      "outputs": [
        {
          "output_type": "display_data",
          "data": {
            "image/png": "[encoded data removed]",
            "text/plain": [
              "<Figure size 1200x640 with 1 Axes>"
            ]
          },
          "metadata": {
            "tags": []
          }
        }
      ]
    },
    {
      "metadata": {
        "id": "TLrv8sQZnnP9",
        "colab_type": "code",
        "outputId": "ab49adb7-7849-4f90-885b-1d29f646382e",
        "colab": {
          "base_uri": "https://localhost:8080/",
          "height": 549
        }
      },
      "cell_type": "code",
      "source": [
        "plt.figure(figsize=(15, 8), dpi= 80, facecolor='w', edgecolor='k')\n",
        "time = [\"0h00\",\"1h00\",\"2h00\",\"3h00\",\"4h00\",\"05h00\",\"6h00\",\"7h00\",\"8h00\",\n",
        "       \"9h00\",\"10h00\",\"11h00\",\"12h00\",\"13h00\",\"14h00\",\"15h00\",\"16h00\",\n",
        "       \"17h00\",\"18h00\",\"19h00\",\"20h00\",\"21h00\",\"22h00\",\"23h00\"]\n",
        "plt.bar(df.groupby([pd.to_datetime(df.loc[df['fcojimenez21'] == True].creado_en).dt.hour]).groups.keys(), height=df.groupby([pd.to_datetime(df.loc[df['fcojimenez21'] == True].creado_en).dt.hour]).size())\n",
        "plt.title('@fcojimenez21/Hora')\n",
        "plt.show()\n"
      ],
      "execution_count": 0,
      "outputs": [
        {
          "output_type": "display_data",
          "data": {
            "image/png": "[encoded data removed]",
            "text/plain": [
              "<Figure size 1200x640 with 1 Axes>"
            ]
          },
          "metadata": {
            "tags": []
          }
        }
      ]
    },
    {
      "metadata": {
        "id": "jq5xdLvwnxUN",
        "colab_type": "code",
        "colab": {}
      },
      "cell_type": "code",
      "source": [
        "### Preddiction model"
      ],
      "execution_count": 0,
      "outputs": []
    },
    {
      "metadata": {
        "id": "A5xmBqoZ2bvx",
        "colab_type": "code",
        "colab": {}
      },
      "cell_type": "code",
      "source": [
        "# remove username\n",
        "df = pd.read_csv(path+\"classification.csv\")\n",
        "df[\"tweet\"] = df[\"tweet\"].str.replace(r\"(@)[A-Za-z0-9_]+\", \"\")\n",
        "df[\"tweet\"] = df[\"tweet\"].dropna()\n",
        "df = df[df[\"tweet\"]!=\"\"]\n",
        "df = df[df[\"PON\"]!=\"\"]\n",
        "df = df[df[\"PON\"]!=\"O\"]\n",
        "\n",
        "df = df[~df[\"PON\"].isna()]\n"
      ],
      "execution_count": 0,
      "outputs": []
    },
    {
      "metadata": {
        "id": "Wx5lWbgx3Fny",
        "colab_type": "code",
        "colab": {}
      },
      "cell_type": "code",
      "source": [
        "df.to_csv(path+\"ForModel.csv\", encoding ='utf-8')\n",
        "df = pd.read_csv(path+\"ForModel.csv\")\n"
      ],
      "execution_count": 0,
      "outputs": []
    },
    {
      "metadata": {
        "id": "ovX6-KME5i-U",
        "colab_type": "code",
        "colab": {}
      },
      "cell_type": "code",
      "source": [
        "from fastai.text import *"
      ],
      "execution_count": 0,
      "outputs": []
    },
    {
      "metadata": {
        "id": "u8rj-PaZ5l0Y",
        "colab_type": "code",
        "colab": {}
      },
      "cell_type": "code",
      "source": [
        "data_lm = (TextList.from_csv(path, path+\"tweets.csv\", cols='tweet').split_by_rand_pct(0.1).label_for_lm().databunch())"
      ],
      "execution_count": 0,
      "outputs": []
    },
    {
      "metadata": {
        "id": "yCMJLmaT_flP",
        "colab_type": "code",
        "colab": {}
      },
      "cell_type": "code",
      "source": [
        "data_lm.save('data_lm.pkl')"
      ],
      "execution_count": 0,
      "outputs": []
    },
    {
      "metadata": {
        "id": "9XoLP2vF_h4v",
        "colab_type": "code",
        "colab": {}
      },
      "cell_type": "code",
      "source": [
        "data_lm = load_data(path, 'data_lm.pkl')"
      ],
      "execution_count": 0,
      "outputs": []
    },
    {
      "metadata": {
        "id": "2otviTs7BhkU",
        "colab_type": "code",
        "outputId": "9f85ce42-6e84-431b-e912-01ce5ba2abcb",
        "colab": {
          "base_uri": "https://localhost:8080/",
          "height": 374
        }
      },
      "cell_type": "code",
      "source": [
        "data_lm.show_batch()"
      ],
      "execution_count": 0,
      "outputs": [
        {
          "output_type": "display_data",
          "data": {
            "text/html": [
              "<table border=\"1\" class=\"dataframe\">\n",
              "  <thead>\n",
              "    <tr style=\"text-align: right;\">\n",
              "      <th>idx</th>\n",
              "      <th>text</th>\n",
              "    </tr>\n",
              "  </thead>\n",
              "  <tbody>\n",
              "    <tr>\n",
              "      <td>0</td>\n",
              "      <td>xxmaj bien por xxmaj la xxmaj perla del xxmaj pacifico . \\r \\n  y esto xxup no es gracias a # xxmaj matraca @ja … xxbos xxup rt @cendemocratico : .@jimmyjairala inicia en estos momentos su caminata por xxmaj mucho xxmaj lote , al norte de la ciudad . xxmaj lo acompañan @diegospotorno , … xxbos xxup rt @ecuagallos : ¿ xxmaj sabían xxmaj uds . q xxup joba</td>\n",
              "    </tr>\n",
              "    <tr>\n",
              "      <td>1</td>\n",
              "      <td>xxmaj hasta que devuelvan el dinero o se realice el concierto ! xxmaj pésima logística en época invernal ! # luismiguel / buena @joseluis_rr 👏 🏼 \\r \\n \\r \\n  # xxunk \\r \\n  # xxunk 🤷 🏼‍ ♂ ️ 🤷 🏼‍ ♂ ️ 🤷 🏼‍ ♂ ️ 🤷 🏼‍ ♂ ️ 🤷 🏼‍ ♂ ️ \\r \\n  # xxunk https : / / t.co / xxunk</td>\n",
              "    </tr>\n",
              "    <tr>\n",
              "      <td>2</td>\n",
              "      <td>la alcaldía de # xxmaj guayaquil : @jimmyjairala , @fcojimenez21 , … xxbos @mariaotras @elconsiglieri1 @justiceveraec @gpuuiogyedur @aqua2650 @ronpeper @manaranjodiaz @jorgevelezvelez @patrici02306665 @atrixiii @avonbuchwalds @taniaguaranda @fmaritza @albacedeozaval1 @patidblacio @cuenteromuisne @enriquemenoscal @gabriellaperu @dama @cynthiaviteri6 @lulagaray @paolajaramilloz @yatenemospresi @narcymaya2 xxmaj se va se va se va a xxunk en el xxunk de olmedo xxbos xxup rt @cendemocratico : xxmaj chongón y xxmaj puerto xxmaj hondo ya cumplen con las condiciones para</td>\n",
              "    </tr>\n",
              "    <tr>\n",
              "      <td>3</td>\n",
              "      <td>candidato a la alcaldía de # xxmaj guay … xxbos xxup rt @cendemocratico : [ # xxup boletín ] @jimmyjairala visitó xxmaj mucho xxmaj lote . xxmaj sus vecinos xxunk que los valores en sus planillas se han xxunk . xxmaj en … xxbos xxunk @jimmyjairala 🤦 ‍ ♂ ️ xxbos xxup rt @cendemocratico : xxmaj vía @canalrtu : @jimmyjairala llegó hasta xxmaj puná , parroquia rural de xxmaj</td>\n",
              "    </tr>\n",
              "    <tr>\n",
              "      <td>4</td>\n",
              "      <td>estimados seguidores . xxmaj los invitamos a seguir hoy la entrevista de @jimmyjairala en @radiohuancavilk desde … xxbos xxup rt @damadeallullas : @jennifercoloma xxunk xxunk xxunk xxunk @franksamaniegom xxunk xxunk … xxbos xxup rt @ecuadortv : xxup hoy | xxup 22h00 \\r \\n  xxmaj en # decisiónendemocracia conoceremos a los candidatos a la alcaldía de # xxmaj guayaquil : @jimmyjairala , @fcojimenez21 , … xxbos xxup rt @damadeallullas :</td>\n",
              "    </tr>\n",
              "  </tbody>\n",
              "</table>"
            ],
            "text/plain": [
              "<IPython.core.display.HTML object>"
            ]
          },
          "metadata": {
            "tags": []
          }
        }
      ]
    },
    {
      "metadata": {
        "id": "gsyabWjpB0F7",
        "colab_type": "code",
        "colab": {}
      },
      "cell_type": "code",
      "source": [
        "weights_pretrained = path+'converted_model'\n",
        "itos_pretrained = path+'itos'\n",
        "pretained_data = (weights_pretrained, itos_pretrained)\n",
        "learn = language_model_learner(data_lm, AWD_LSTM, pretrained_fnames=pretained_data, drop_mult=0.6)"
      ],
      "execution_count": 0,
      "outputs": []
    },
    {
      "metadata": {
        "id": "xzC_qvGDBqTS",
        "colab_type": "code",
        "outputId": "1587617c-c517-4bae-cfc8-c4fb927de4ee",
        "colab": {
          "base_uri": "https://localhost:8080/",
          "height": 34
        }
      },
      "cell_type": "code",
      "source": [
        "learn.lr_find()"
      ],
      "execution_count": 0,
      "outputs": [
        {
          "output_type": "display_data",
          "data": {
            "text/html": [
              ""
            ],
            "text/plain": [
              "<IPython.core.display.HTML object>"
            ]
          },
          "metadata": {
            "tags": []
          }
        },
        {
          "output_type": "stream",
          "text": [
            "LR Finder is complete, type {learner_name}.recorder.plot() to see the graph.\n"
          ],
          "name": "stdout"
        }
      ]
    },
    {
      "metadata": {
        "id": "14RB4UV5CNOV",
        "colab_type": "code",
        "outputId": "3edcad5f-04c0-450f-9934-6fcf6a541998",
        "colab": {
          "base_uri": "https://localhost:8080/",
          "height": 279
        }
      },
      "cell_type": "code",
      "source": [
        "learn.recorder.plot(skip_end=1)"
      ],
      "execution_count": 0,
      "outputs": [
        {
          "output_type": "display_data",
          "data": {
            "image/png": "[encoded data removed]",
            "text/plain": [
              "<Figure size 432x288 with 1 Axes>"
            ]
          },
          "metadata": {
            "tags": []
          }
        }
      ]
    },
    {
      "metadata": {
        "id": "p7NNDhYlCOQT",
        "colab_type": "code",
        "outputId": "b4ccf4d0-ad90-4074-f01a-2fb863589b2a",
        "colab": {
          "base_uri": "https://localhost:8080/",
          "height": 103
        }
      },
      "cell_type": "code",
      "source": [
        "learn.fit_one_cycle(1, 1e-02, moms=(0.8,0.7))"
      ],
      "execution_count": 0,
      "outputs": [
        {
          "output_type": "display_data",
          "data": {
            "text/html": [
              "Total time: 00:14 <p><table border=\"1\" class=\"dataframe\">\n",
              "  <thead>\n",
              "    <tr style=\"text-align: left;\">\n",
              "      <th>epoch</th>\n",
              "      <th>train_loss</th>\n",
              "      <th>valid_loss</th>\n",
              "      <th>accuracy</th>\n",
              "      <th>time</th>\n",
              "    </tr>\n",
              "  </thead>\n",
              "  <tbody>\n",
              "    <tr>\n",
              "      <td>0</td>\n",
              "      <td>5.099202</td>\n",
              "      <td>3.970043</td>\n",
              "      <td>0.314598</td>\n",
              "      <td>00:14</td>\n",
              "    </tr>\n",
              "  </tbody>\n",
              "</table>"
            ],
            "text/plain": [
              "<IPython.core.display.HTML object>"
            ]
          },
          "metadata": {
            "tags": []
          }
        }
      ]
    },
    {
      "metadata": {
        "id": "oMBglyEfGSoE",
        "colab_type": "code",
        "colab": {}
      },
      "cell_type": "code",
      "source": [
        "learn.save('fit_head')"
      ],
      "execution_count": 0,
      "outputs": []
    },
    {
      "metadata": {
        "id": "Zo0uujMLEaXE",
        "colab_type": "code",
        "colab": {}
      },
      "cell_type": "code",
      "source": [
        "learn.load('fit_head');"
      ],
      "execution_count": 0,
      "outputs": []
    },
    {
      "metadata": {
        "id": "XeQH0o7XGU1J",
        "colab_type": "code",
        "colab": {}
      },
      "cell_type": "code",
      "source": [
        "learn.unfreeze()"
      ],
      "execution_count": 0,
      "outputs": []
    },
    {
      "metadata": {
        "id": "ksPhFK9CFwki",
        "colab_type": "code",
        "outputId": "d80cbeea-0cbc-4b11-af7c-cf0fa7a27d79",
        "colab": {
          "base_uri": "https://localhost:8080/",
          "height": 382
        }
      },
      "cell_type": "code",
      "source": [
        "learn.fit_one_cycle(10, 1e-03, moms=(0.8,0.7))"
      ],
      "execution_count": 0,
      "outputs": [
        {
          "output_type": "display_data",
          "data": {
            "text/html": [
              "Total time: 03:03 <p><table border=\"1\" class=\"dataframe\">\n",
              "  <thead>\n",
              "    <tr style=\"text-align: left;\">\n",
              "      <th>epoch</th>\n",
              "      <th>train_loss</th>\n",
              "      <th>valid_loss</th>\n",
              "      <th>accuracy</th>\n",
              "      <th>time</th>\n",
              "    </tr>\n",
              "  </thead>\n",
              "  <tbody>\n",
              "    <tr>\n",
              "      <td>0</td>\n",
              "      <td>3.937126</td>\n",
              "      <td>3.578753</td>\n",
              "      <td>0.354821</td>\n",
              "      <td>00:18</td>\n",
              "    </tr>\n",
              "    <tr>\n",
              "      <td>1</td>\n",
              "      <td>3.579814</td>\n",
              "      <td>3.021521</td>\n",
              "      <td>0.446741</td>\n",
              "      <td>00:18</td>\n",
              "    </tr>\n",
              "    <tr>\n",
              "      <td>2</td>\n",
              "      <td>3.168866</td>\n",
              "      <td>2.618203</td>\n",
              "      <td>0.509643</td>\n",
              "      <td>00:18</td>\n",
              "    </tr>\n",
              "    <tr>\n",
              "      <td>3</td>\n",
              "      <td>2.799575</td>\n",
              "      <td>2.372685</td>\n",
              "      <td>0.555268</td>\n",
              "      <td>00:18</td>\n",
              "    </tr>\n",
              "    <tr>\n",
              "      <td>4</td>\n",
              "      <td>2.515592</td>\n",
              "      <td>2.227562</td>\n",
              "      <td>0.578438</td>\n",
              "      <td>00:18</td>\n",
              "    </tr>\n",
              "    <tr>\n",
              "      <td>5</td>\n",
              "      <td>2.303267</td>\n",
              "      <td>2.134162</td>\n",
              "      <td>0.594196</td>\n",
              "      <td>00:18</td>\n",
              "    </tr>\n",
              "    <tr>\n",
              "      <td>6</td>\n",
              "      <td>2.143560</td>\n",
              "      <td>2.081303</td>\n",
              "      <td>0.602679</td>\n",
              "      <td>00:18</td>\n",
              "    </tr>\n",
              "    <tr>\n",
              "      <td>7</td>\n",
              "      <td>2.019376</td>\n",
              "      <td>2.051470</td>\n",
              "      <td>0.607232</td>\n",
              "      <td>00:18</td>\n",
              "    </tr>\n",
              "    <tr>\n",
              "      <td>8</td>\n",
              "      <td>1.956064</td>\n",
              "      <td>2.042516</td>\n",
              "      <td>0.609821</td>\n",
              "      <td>00:18</td>\n",
              "    </tr>\n",
              "    <tr>\n",
              "      <td>9</td>\n",
              "      <td>1.929175</td>\n",
              "      <td>2.042511</td>\n",
              "      <td>0.609688</td>\n",
              "      <td>00:18</td>\n",
              "    </tr>\n",
              "  </tbody>\n",
              "</table>"
            ],
            "text/plain": [
              "<IPython.core.display.HTML object>"
            ]
          },
          "metadata": {
            "tags": []
          }
        }
      ]
    },
    {
      "metadata": {
        "id": "bgi1318qGeTS",
        "colab_type": "code",
        "colab": {}
      },
      "cell_type": "code",
      "source": [
        "learn.save('fine_tuned')"
      ],
      "execution_count": 0,
      "outputs": []
    },
    {
      "metadata": {
        "id": "G_Fitt-XGgxH",
        "colab_type": "code",
        "colab": {}
      },
      "cell_type": "code",
      "source": [
        "learn.load('fine_tuned');"
      ],
      "execution_count": 0,
      "outputs": []
    },
    {
      "metadata": {
        "id": "ydb94NuKEBMy",
        "colab_type": "code",
        "colab": {}
      },
      "cell_type": "code",
      "source": [
        "learn.save_encoder('fine_tuned_enc')"
      ],
      "execution_count": 0,
      "outputs": []
    },
    {
      "metadata": {
        "id": "5bzC8wqHHWZc",
        "colab_type": "code",
        "colab": {}
      },
      "cell_type": "code",
      "source": [
        "TEXT = \"La ciudad de Guayaquil\"\n",
        "N_WORDS = 20\n",
        "N_SENTENCES = 2"
      ],
      "execution_count": 0,
      "outputs": []
    },
    {
      "metadata": {
        "id": "mokOZvPvHXjq",
        "colab_type": "code",
        "outputId": "040a1d77-1e5f-4a43-c56c-2c61802d568e",
        "colab": {
          "base_uri": "https://localhost:8080/",
          "height": 71
        }
      },
      "cell_type": "code",
      "source": [
        "print(\"\\n\".join(learn.predict(TEXT, N_WORDS, temperature=0.75) for _ in range(N_SENTENCES)))"
      ],
      "execution_count": 0,
      "outputs": [
        {
          "output_type": "stream",
          "text": [
            "La ciudad de Guayaquil también se viste de naranja y sueña con # elmejorguayaquildetodoslostiempos con @jimmyjairala y el equipo de @la6mdg xxbos RT\n",
            "La ciudad de Guayaquil se salvó del Socialismo de SXXI . Fue el bastión que nunca se pudieron tomar .\n"
          ],
          "name": "stdout"
        }
      ]
    },
    {
      "metadata": {
        "id": "RCNMPwzfH3Dp",
        "colab_type": "code",
        "colab": {}
      },
      "cell_type": "code",
      "source": [
        "data_clas = (TextList.from_csv(path, path+\"ForModel.csv\", cols='tweet', vocab=data_lm.vocab).split_by_rand_pct().label_from_df(cols='PON')\n",
        "             .databunch())"
      ],
      "execution_count": 0,
      "outputs": []
    },
    {
      "metadata": {
        "id": "YO4C52pD62Wk",
        "colab_type": "code",
        "colab": {}
      },
      "cell_type": "code",
      "source": [
        "data_clas.save('data_clas.pkl')"
      ],
      "execution_count": 0,
      "outputs": []
    },
    {
      "metadata": {
        "id": "YOpg6llZDoiK",
        "colab_type": "code",
        "colab": {}
      },
      "cell_type": "code",
      "source": [
        "learn = text_classifier_learner(data_clas, AWD_LSTM, drop_mult=0.2)\n",
        "learn.load_encoder('fine_tuned_enc')"
      ],
      "execution_count": 0,
      "outputs": []
    },
    {
      "metadata": {
        "id": "flzCkntTDs2u",
        "colab_type": "code",
        "outputId": "b26a7d1d-f5b3-4159-ddcd-2c8d76e8a80a",
        "colab": {
          "base_uri": "https://localhost:8080/",
          "height": 34
        }
      },
      "cell_type": "code",
      "source": [
        "learn.lr_find()"
      ],
      "execution_count": 0,
      "outputs": [
        {
          "output_type": "display_data",
          "data": {
            "text/html": [
              ""
            ],
            "text/plain": [
              "<IPython.core.display.HTML object>"
            ]
          },
          "metadata": {
            "tags": []
          }
        },
        {
          "output_type": "stream",
          "text": [
            "LR Finder is complete, type {learner_name}.recorder.plot() to see the graph.\n"
          ],
          "name": "stdout"
        }
      ]
    },
    {
      "metadata": {
        "id": "L6A2GmyoEG4C",
        "colab_type": "code",
        "outputId": "08ae10d4-76bb-4787-a2d3-c16d42db8fa7",
        "colab": {
          "base_uri": "https://localhost:8080/",
          "height": 279
        }
      },
      "cell_type": "code",
      "source": [
        "learn.recorder.plot()"
      ],
      "execution_count": 0,
      "outputs": [
        {
          "output_type": "display_data",
          "data": {
            "image/png": "[encoded data removed]",
            "text/plain": [
              "<Figure size 432x288 with 1 Axes>"
            ]
          },
          "metadata": {
            "tags": []
          }
        }
      ]
    },
    {
      "metadata": {
        "id": "B1bmQVPcEIfl",
        "colab_type": "code",
        "outputId": "3d84416f-830c-418d-e58f-260d38227f94",
        "colab": {
          "base_uri": "https://localhost:8080/",
          "height": 103
        }
      },
      "cell_type": "code",
      "source": [
        "learn.fit_one_cycle(1, 1e-02, moms=(0.8,0.7))"
      ],
      "execution_count": 0,
      "outputs": [
        {
          "output_type": "display_data",
          "data": {
            "text/html": [
              "Total time: 00:01 <p><table border=\"1\" class=\"dataframe\">\n",
              "  <thead>\n",
              "    <tr style=\"text-align: left;\">\n",
              "      <th>epoch</th>\n",
              "      <th>train_loss</th>\n",
              "      <th>valid_loss</th>\n",
              "      <th>accuracy</th>\n",
              "      <th>time</th>\n",
              "    </tr>\n",
              "  </thead>\n",
              "  <tbody>\n",
              "    <tr>\n",
              "      <td>0</td>\n",
              "      <td>0.581488</td>\n",
              "      <td>0.656811</td>\n",
              "      <td>0.688742</td>\n",
              "      <td>00:01</td>\n",
              "    </tr>\n",
              "  </tbody>\n",
              "</table>"
            ],
            "text/plain": [
              "<IPython.core.display.HTML object>"
            ]
          },
          "metadata": {
            "tags": []
          }
        }
      ]
    },
    {
      "metadata": {
        "id": "Tz7AzCLdEPxi",
        "colab_type": "code",
        "colab": {}
      },
      "cell_type": "code",
      "source": [
        "learn.save('first')"
      ],
      "execution_count": 0,
      "outputs": []
    },
    {
      "metadata": {
        "id": "qcAU944xFPMx",
        "colab_type": "code",
        "colab": {}
      },
      "cell_type": "code",
      "source": [
        "learn.load('first');"
      ],
      "execution_count": 0,
      "outputs": []
    },
    {
      "metadata": {
        "id": "gt8ct08gFQ8l",
        "colab_type": "code",
        "outputId": "58a39041-11a5-4598-9878-8b497607b6b1",
        "colab": {
          "base_uri": "https://localhost:8080/",
          "height": 103
        }
      },
      "cell_type": "code",
      "source": [
        "learn.freeze_to(-2)\n",
        "learn.fit_one_cycle(1, slice(1e-02/(2.6**4),1e-02), moms=(0.8,0.7))"
      ],
      "execution_count": 0,
      "outputs": [
        {
          "output_type": "display_data",
          "data": {
            "text/html": [
              "Total time: 00:01 <p><table border=\"1\" class=\"dataframe\">\n",
              "  <thead>\n",
              "    <tr style=\"text-align: left;\">\n",
              "      <th>epoch</th>\n",
              "      <th>train_loss</th>\n",
              "      <th>valid_loss</th>\n",
              "      <th>accuracy</th>\n",
              "      <th>time</th>\n",
              "    </tr>\n",
              "  </thead>\n",
              "  <tbody>\n",
              "    <tr>\n",
              "      <td>0</td>\n",
              "      <td>0.482573</td>\n",
              "      <td>0.521403</td>\n",
              "      <td>0.807947</td>\n",
              "      <td>00:01</td>\n",
              "    </tr>\n",
              "  </tbody>\n",
              "</table>"
            ],
            "text/plain": [
              "<IPython.core.display.HTML object>"
            ]
          },
          "metadata": {
            "tags": []
          }
        }
      ]
    },
    {
      "metadata": {
        "id": "8slywWXPFXd4",
        "colab_type": "code",
        "colab": {}
      },
      "cell_type": "code",
      "source": [
        "learn.save('second')"
      ],
      "execution_count": 0,
      "outputs": []
    },
    {
      "metadata": {
        "id": "UJyk81CcFbO_",
        "colab_type": "code",
        "colab": {}
      },
      "cell_type": "code",
      "source": [
        "learn.load('second');"
      ],
      "execution_count": 0,
      "outputs": []
    },
    {
      "metadata": {
        "id": "YSPSVHkjFcl3",
        "colab_type": "code",
        "outputId": "2cd448b4-01c3-4fa3-ffff-ce2a878c95f8",
        "colab": {
          "base_uri": "https://localhost:8080/",
          "height": 103
        }
      },
      "cell_type": "code",
      "source": [
        "learn.freeze_to(-3)\n",
        "learn.fit_one_cycle(1, slice(1e-03/(2.6**4),1e-03), moms=(0.8,0.7))"
      ],
      "execution_count": 0,
      "outputs": [
        {
          "output_type": "display_data",
          "data": {
            "text/html": [
              "Total time: 00:02 <p><table border=\"1\" class=\"dataframe\">\n",
              "  <thead>\n",
              "    <tr style=\"text-align: left;\">\n",
              "      <th>epoch</th>\n",
              "      <th>train_loss</th>\n",
              "      <th>valid_loss</th>\n",
              "      <th>accuracy</th>\n",
              "      <th>time</th>\n",
              "    </tr>\n",
              "  </thead>\n",
              "  <tbody>\n",
              "    <tr>\n",
              "      <td>0</td>\n",
              "      <td>0.376679</td>\n",
              "      <td>0.479074</td>\n",
              "      <td>0.847682</td>\n",
              "      <td>00:02</td>\n",
              "    </tr>\n",
              "  </tbody>\n",
              "</table>"
            ],
            "text/plain": [
              "<IPython.core.display.HTML object>"
            ]
          },
          "metadata": {
            "tags": []
          }
        }
      ]
    },
    {
      "metadata": {
        "id": "4929ATcrFilY",
        "colab_type": "code",
        "colab": {}
      },
      "cell_type": "code",
      "source": [
        "learn.save('third')"
      ],
      "execution_count": 0,
      "outputs": []
    },
    {
      "metadata": {
        "id": "prJfSMJcM_XK",
        "colab_type": "code",
        "colab": {}
      },
      "cell_type": "code",
      "source": [
        "learn.load('third');"
      ],
      "execution_count": 0,
      "outputs": []
    },
    {
      "metadata": {
        "id": "2QSVmNwMNBgr",
        "colab_type": "code",
        "outputId": "065194a1-387c-42dc-cb25-f7825a8ef082",
        "colab": {
          "base_uri": "https://localhost:8080/",
          "height": 134
        }
      },
      "cell_type": "code",
      "source": [
        "learn.unfreeze()\n",
        "learn.fit_one_cycle(2, slice(1e-03/(2.6**4),1e-03), moms=(0.8,0.7))"
      ],
      "execution_count": 0,
      "outputs": [
        {
          "output_type": "display_data",
          "data": {
            "text/html": [
              "Total time: 00:06 <p><table border=\"1\" class=\"dataframe\">\n",
              "  <thead>\n",
              "    <tr style=\"text-align: left;\">\n",
              "      <th>epoch</th>\n",
              "      <th>train_loss</th>\n",
              "      <th>valid_loss</th>\n",
              "      <th>accuracy</th>\n",
              "      <th>time</th>\n",
              "    </tr>\n",
              "  </thead>\n",
              "  <tbody>\n",
              "    <tr>\n",
              "      <td>0</td>\n",
              "      <td>0.355888</td>\n",
              "      <td>0.449902</td>\n",
              "      <td>0.834437</td>\n",
              "      <td>00:03</td>\n",
              "    </tr>\n",
              "    <tr>\n",
              "      <td>1</td>\n",
              "      <td>0.337926</td>\n",
              "      <td>0.415722</td>\n",
              "      <td>0.854305</td>\n",
              "      <td>00:03</td>\n",
              "    </tr>\n",
              "  </tbody>\n",
              "</table>"
            ],
            "text/plain": [
              "<IPython.core.display.HTML object>"
            ]
          },
          "metadata": {
            "tags": []
          }
        }
      ]
    },
    {
      "metadata": {
        "id": "QNIQGnmSOq8W",
        "colab_type": "code",
        "colab": {}
      },
      "cell_type": "code",
      "source": [
        "learn.save('lastModel')"
      ],
      "execution_count": 0,
      "outputs": []
    },
    {
      "metadata": {
        "id": "fix1D4TvOyoO",
        "colab_type": "code",
        "colab": {}
      },
      "cell_type": "code",
      "source": [
        "learn.save_encoder('lastModel_enc')"
      ],
      "execution_count": 0,
      "outputs": []
    },
    {
      "metadata": {
        "id": "2fpBe-YwO17h",
        "colab_type": "text"
      },
      "cell_type": "markdown",
      "source": [
        "## Algunos ejemplos"
      ]
    },
    {
      "metadata": {
        "id": "u0jBVH1mNE_L",
        "colab_type": "code",
        "outputId": "787a2af2-0b49-4519-df7c-c0cfd1a72fd8",
        "colab": {
          "base_uri": "https://localhost:8080/",
          "height": 34
        }
      },
      "cell_type": "code",
      "source": [
        "learn.predict(\"Vamos a ganar mi alcalde\")"
      ],
      "execution_count": 0,
      "outputs": [
        {
          "output_type": "execute_result",
          "data": {
            "text/plain": [
              "(Category P, tensor(1), tensor([0.0649, 0.9351]))"
            ]
          },
          "metadata": {
            "tags": []
          },
          "execution_count": 447
        }
      ]
    },
    {
      "metadata": {
        "id": "Pj0ltFItNKmK",
        "colab_type": "code",
        "outputId": "e83d15e1-6113-45fc-cdfa-f3222538cebb",
        "colab": {
          "base_uri": "https://localhost:8080/",
          "height": 34
        }
      },
      "cell_type": "code",
      "source": [
        "learn.predict(\"Los mismos ladrones de siempre\")"
      ],
      "execution_count": 0,
      "outputs": [
        {
          "output_type": "execute_result",
          "data": {
            "text/plain": [
              "(Category N, tensor(0), tensor([0.7378, 0.2622]))"
            ]
          },
          "metadata": {
            "tags": []
          },
          "execution_count": 448
        }
      ]
    },
    {
      "metadata": {
        "id": "ciK7yFmDOEcW",
        "colab_type": "code",
        "outputId": "47be2ed9-1c9f-4624-96c3-ada6084727e3",
        "colab": {
          "base_uri": "https://localhost:8080/",
          "height": 34
        }
      },
      "cell_type": "code",
      "source": [
        "learn.predict(\"🐭🐭\")"
      ],
      "execution_count": 0,
      "outputs": [
        {
          "output_type": "execute_result",
          "data": {
            "text/plain": [
              "(Category N, tensor(0), tensor([0.6929, 0.3071]))"
            ]
          },
          "metadata": {
            "tags": []
          },
          "execution_count": 449
        }
      ]
    },
    {
      "metadata": {
        "id": "bwmrtunCOIr1",
        "colab_type": "code",
        "outputId": "1ca62480-c144-4f6a-9021-c5071732e3b8",
        "colab": {
          "base_uri": "https://localhost:8080/",
          "height": 34
        }
      },
      "cell_type": "code",
      "source": [
        "learn.predict(\"Es hora de un cambio\")"
      ],
      "execution_count": 0,
      "outputs": [
        {
          "output_type": "execute_result",
          "data": {
            "text/plain": [
              "(Category P, tensor(1), tensor([0.4567, 0.5433]))"
            ]
          },
          "metadata": {
            "tags": []
          },
          "execution_count": 450
        }
      ]
    },
    {
      "metadata": {
        "id": "DQvc_JzIOLiG",
        "colab_type": "code",
        "outputId": "df46b5ce-3fef-40d8-d230-57138212db80",
        "colab": {
          "base_uri": "https://localhost:8080/",
          "height": 34
        }
      },
      "cell_type": "code",
      "source": [
        "learn.predict(\"Sinico, ladrón\")"
      ],
      "execution_count": 0,
      "outputs": [
        {
          "output_type": "execute_result",
          "data": {
            "text/plain": [
              "(Category N, tensor(0), tensor([0.7175, 0.2825]))"
            ]
          },
          "metadata": {
            "tags": []
          },
          "execution_count": 451
        }
      ]
    },
    {
      "metadata": {
        "id": "0m7wX858OSwV",
        "colab_type": "code",
        "outputId": "36052133-952c-4981-a4a5-5594573f4b5f",
        "colab": {
          "base_uri": "https://localhost:8080/",
          "height": 34
        }
      },
      "cell_type": "code",
      "source": [
        "learn.predict(\"Tenemos el optimismo y convicción que el pueblo respaldará masivamente la propuesta de \")"
      ],
      "execution_count": 0,
      "outputs": [
        {
          "output_type": "execute_result",
          "data": {
            "text/plain": [
              "(Category P, tensor(1), tensor([0.0348, 0.9652]))"
            ]
          },
          "metadata": {
            "tags": []
          },
          "execution_count": 452
        }
      ]
    },
    {
      "metadata": {
        "id": "DM_3iXJQObh1",
        "colab_type": "code",
        "outputId": "21ba6436-2750-4d0d-910b-48bd75c39df1",
        "colab": {
          "base_uri": "https://localhost:8080/",
          "height": 34
        }
      },
      "cell_type": "code",
      "source": [
        "learn.predict(\"no invierten nada . Porque si no les resulta el fraude y ganar las alcaldías que deseen en especial\")[0]"
      ],
      "execution_count": 0,
      "outputs": [
        {
          "output_type": "execute_result",
          "data": {
            "text/plain": [
              "Category N"
            ]
          },
          "metadata": {
            "tags": []
          },
          "execution_count": 463
        }
      ]
    },
    {
      "metadata": {
        "id": "LLanul4BOmdd",
        "colab_type": "code",
        "colab": {}
      },
      "cell_type": "code",
      "source": [
        "dff = pd.read_csv(path+\"tweets 21.csv\")"
      ],
      "execution_count": 0,
      "outputs": []
    },
    {
      "metadata": {
        "id": "e8J3HpCAPrAN",
        "colab_type": "code",
        "colab": {}
      },
      "cell_type": "code",
      "source": [
        "def prediction(x):\n",
        "  return learn.predict(x)[0]"
      ],
      "execution_count": 0,
      "outputs": []
    },
    {
      "metadata": {
        "id": "JgrfAX9DPW7w",
        "colab_type": "code",
        "colab": {}
      },
      "cell_type": "code",
      "source": [
        "dff[\"prediction\"] = dff[\"tweet\"].apply(prediction)"
      ],
      "execution_count": 0,
      "outputs": []
    },
    {
      "metadata": {
        "id": "azTjam-JPZQw",
        "colab_type": "code",
        "colab": {}
      },
      "cell_type": "code",
      "source": [
        "dff.to_csv(path+\"Final.csv\", encoding ='utf-8')\n"
      ],
      "execution_count": 0,
      "outputs": []
    },
    {
      "metadata": {
        "id": "rX46iov9QaL4",
        "colab_type": "code",
        "colab": {}
      },
      "cell_type": "code",
      "source": [
        "dff = dff[~dff['tweet'].astype(str).str.startswith('RT')]"
      ],
      "execution_count": 0,
      "outputs": []
    },
    {
      "metadata": {
        "id": "MNShnhukUpnI",
        "colab_type": "code",
        "outputId": "0b6a02de-deb8-450b-ecc9-c0df03dbff86",
        "colab": {
          "base_uri": "https://localhost:8080/",
          "height": 187
        }
      },
      "cell_type": "code",
      "source": [
        "print(dff.shape)\n",
        "print(dff.columns)\n"
      ],
      "execution_count": 0,
      "outputs": [
        {
          "output_type": "stream",
          "text": [
            "(5298, 31)\n",
            "Index(['ID', 'creado_en', 'nombreusuario', 'nombre', 'creacion_usuario',\n",
            "       'seguidores', 'siguiendo', 'numero_tweets',\n",
            "       'geolocalziacion_habilitada', 'idioma', 'origen', 'idioma_del_tweet',\n",
            "       'tweet', 'hashtags', 'es_respuesta', 'jimmyjairala', 'cedeno_marth',\n",
            "       'jorgevillacrese', 'CynthiaViteri6', 'GinoCornejoM', 'BermudezBronson',\n",
            "       'balerioestacio', 'inca_jose', 'EduardoArgudoG', 'fcojimenez21',\n",
            "       'patobuendia23', 'jaimelomas74', 'Simon_BolivarEC', 'edgarsalazar_51',\n",
            "       'jaimenebotsaadi', 'prediction'],\n",
            "      dtype='object')\n"
          ],
          "name": "stdout"
        }
      ]
    },
    {
      "metadata": {
        "id": "EflLAkI4Wvpk",
        "colab_type": "code",
        "colab": {}
      },
      "cell_type": "code",
      "source": [
        "jaimenebotsaadi_sent = dff.loc[dff[\"jaimenebotsaadi\"]==True].groupby(\"prediction\").size()\n",
        "jimmyjairala_sent = dff.loc[dff[\"jimmyjairala\"]==True].groupby(\"prediction\").size()\n",
        "CynthiaViteri6_sent = dff.loc[dff[\"CynthiaViteri6\"]==True].groupby(\"prediction\").size()\n",
        "list_pos = [jaimenebotsaadi_sent[1], jimmyjairala_sent[1], CynthiaViteri6_sent[1]]\n",
        "list_neg = [jaimenebotsaadi_sent[0], jimmyjairala_sent[0], CynthiaViteri6_sent[0]]"
      ],
      "execution_count": 0,
      "outputs": []
    },
    {
      "metadata": {
        "id": "TY2tF4yMZ-dB",
        "colab_type": "code",
        "outputId": "c0af0549-9910-4b9e-f811-bef5ce931277",
        "colab": {
          "base_uri": "https://localhost:8080/",
          "height": 265
        }
      },
      "cell_type": "code",
      "source": [
        "N = 3\n",
        "ind = np.arange(N)  # the x locations for the groups\n",
        "width = 0.27 \n",
        "ax = plt.subplot()\n",
        "ax.set_ylabel('Tweets')\n",
        "ax.set_xticks(ind+width)\n",
        "ax.set_xticklabels((\"@jaimenebotsaadi\", \"@jimmyjairala\", \"@CynthiaViteri\") )\n",
        "ax.bar(ind+width, list_pos,width=width,color='g',align='center')\n",
        "ax.bar(ind+width*2, list_neg,width=width,color='r',align='center')\n",
        "plt.show()\n"
      ],
      "execution_count": 0,
      "outputs": [
        {
          "output_type": "display_data",
          "data": {
            "image/png": "[encoded data removed]",
            "text/plain": [
              "<Figure size 432x288 with 1 Axes>"
            ]
          },
          "metadata": {
            "tags": []
          }
        }
      ]
    },
    {
      "metadata": {
        "id": "letFm5Yna-wo",
        "colab_type": "code",
        "colab": {}
      },
      "cell_type": "code",
      "source": [
        ""
      ],
      "execution_count": 0,
      "outputs": []
    }
  ]
}